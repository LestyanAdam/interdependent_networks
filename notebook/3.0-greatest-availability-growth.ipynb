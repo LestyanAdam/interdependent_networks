{
 "cells": [
  {
   "cell_type": "markdown",
   "metadata": {},
   "source": [
    "Ellenőrzésképpen vannak benne print ek hogy le tudjam ellenőrizni hogy jól dolgoztam e"
   ]
  },
  {
   "cell_type": "code",
   "execution_count": 59,
   "metadata": {},
   "outputs": [
    {
     "name": "stdout",
     "output_type": "stream",
     "text": [
      "The autoreload extension is already loaded. To reload it, use:\n",
      "  %reload_ext autoreload\n"
     ]
    }
   ],
   "source": [
    "%load_ext autoreload\n",
    "%autoreload 2"
   ]
  },
  {
   "cell_type": "code",
   "execution_count": 60,
   "metadata": {},
   "outputs": [],
   "source": [
    "# Standard library imports.\n",
    "import pickle\n",
    "from collections import namedtuple\n",
    "\n",
    "# Related third party imports.\n",
    "import numpy as np\n",
    "import networkx as nx\n",
    "import matplotlib.pyplot as plt\n",
    "from matplotlib_venn import venn3_unweighted\n",
    "\n",
    "# Local application/library specific imports.\n",
    "import src.models.id_network as id_network\n",
    "import src.models.inter_dependency as inter_dependency\n",
    "import src.processing as processing\n",
    "import src.models.scores as scores"
   ]
  },
  {
   "cell_type": "markdown",
   "metadata": {},
   "source": [
    "Beolvassuk a hálózatot:"
   ]
  },
  {
   "cell_type": "code",
   "execution_count": 61,
   "metadata": {},
   "outputs": [
    {
     "name": "stderr",
     "output_type": "stream",
     "text": [
      "[            setup_dependencies()] New dependencies set!\n",
      "[         set_initial_tolerance()] Started\n",
      "[         set_initial_tolerance()] Finished\n",
      "[         set_maximal_tolerance()] Started\n",
      "[         set_maximal_tolerance()] Finished\n",
      "[            set_tolerance_step()] Started\n",
      "[            set_tolerance_step()] Finished\n",
      "[         set_tolerance_vectors()] Started\n",
      "[         set_tolerance_vectors()] Finished\n",
      "[ set_maximal_tolerance_vectors()] Started\n",
      "[ set_maximal_tolerance_vectors()] Finished\n",
      "[              add_upgrade_cost()] Started\n",
      "[              add_upgrade_cost()] Finished\n"
     ]
    }
   ],
   "source": [
    "P = nx.read_gml(\"../data/processed/networks/italy/italy_power.gml\")\n",
    "C = nx.read_gml(\"../data/processed/networks/italy/italy_communication.gml\")\n",
    "id_12, id_21 = inter_dependency.id_closest_nodes(P,C)\n",
    "\n",
    "processing.add_edge_length(P)\n",
    "processing.add_edge_length(C)\n",
    "\n",
    "model = id_network.Basic(P, C, id_12, id_21)\n",
    "\n",
    "full_network_cost = sum(sum(cost_dict.values()) for cost_dict in model.upgrade_cost.values())"
   ]
  },
  {
   "cell_type": "markdown",
   "metadata": {},
   "source": [
    "Beolvassuk a három algoritmus (NMD, PMD, NFN) fejlesztési eredményeit\\\n",
    "Az A hálózat a energia hálózat és a B hálózat a kommunikációs hálózat"
   ]
  },
  {
   "cell_type": "code",
   "execution_count": 62,
   "metadata": {},
   "outputs": [],
   "source": [
    "network_stats_all = {}\n",
    "networks = ['A', 'B']\n",
    "scoring_methods = ['NMD', 'PMD', 'NFN']\n",
    "\n",
    "for method in scoring_methods:\n",
    "    with open(f'../data/upgrade/network_stats_{method}.pkl', 'rb') as f:\n",
    "        network_stats_all[method] = pickle.load(f)"
   ]
  },
  {
   "cell_type": "markdown",
   "metadata": {},
   "source": [
    "Ezután ki kell számolni az availability növekedéseket, ezt a részt az egyik másik notebook ból vettem és kitöröltem azokat a részeket, amelyekre itt nincs szükségünk "
   ]
  },
  {
   "cell_type": "code",
   "execution_count": 63,
   "metadata": {},
   "outputs": [],
   "source": [
    "available_area_scoring = {method:{'A':[], 'B':[]} for method in scoring_methods}\n",
    "available_area_diff_scoring = {method:{'A':[], 'B':[]} for method in scoring_methods}\n",
    "available_area_diff_sum_scoring = {method:[] for method in scoring_methods}\n",
    "\n",
    "cost_scoring = {method:[] for method in scoring_methods}\n",
    "cumulative_cost_scoring = {method:[] for method in scoring_methods}\n",
    "\n",
    "for method in scoring_methods:\n",
    "    for cdf in network_stats_all[method]['cdf']:\n",
    "        availability = scores.availability_from_cdf_all(cdf_dict=cdf, phase=3)\n",
    "        for network_name in availability:\n",
    "            available_area_scoring[method][network_name].append(availability[network_name])\n",
    "\n",
    "    available_area_scoring[method]['A'] = np.array(available_area_scoring[method]['A'])\n",
    "    available_area_scoring[method]['B'] = np.array(available_area_scoring[method]['B'])\n",
    "\n",
    "    available_area_diff_scoring[method] = {network_name:np.diff(available_area_scoring[method][network_name]) for network_name in available_area_scoring[method]}\n",
    "    available_area_diff_sum_scoring[method] = available_area_diff_scoring[method]['A'] + available_area_diff_scoring[method]['B']\n",
    "\n",
    "    cost_scoring[method] = np.array([0, ] + [data.cost for data in network_stats_all[method]['upgraded_element_history']])\n",
    "    cumulative_cost_scoring[method] = np.cumsum(cost_scoring[method])\n",
    "\n",
    "    network_stats_all[method]['available_area_diff_sum'] = [value for value in available_area_diff_sum_scoring[method]]"
   ]
  },
  {
   "cell_type": "markdown",
   "metadata": {},
   "source": [
    "Létrehozok egy egyedi tuple-t, amiben eltárolom az elementek megkülönböztethetéséhez szükséges tulajdonságokat és az availability növekedést\\\n",
    "És definiálok egy metódust, amely ennek a tuple -nek a negyedik elemét, azaz az availability növekedést adja vissza és egy másikat\\\n",
    "amely a value -t adja vissza, ami azt adja meg hogy hány algoritmusban volt benne a fejlesztés (1...3)\\\n",
    "erre később lesz szükség"
   ]
  },
  {
   "cell_type": "code",
   "execution_count": 64,
   "metadata": {},
   "outputs": [],
   "source": [
    "UpgradeWithAvailability = namedtuple('UpgradeWithAvailability', [\n",
    "    'network_name', 'element_type', 'element', 'element_idx', 'cost',\n",
    "    'tolerance_before', 'tolerance_after', 'availability_gain'\n",
    "])\n",
    "\n",
    "def get_availability(data):\n",
    "    return data[7]\n",
    "\n",
    "def get_value(data):\n",
    "    return data[9]"
   ]
  },
  {
   "cell_type": "markdown",
   "metadata": {},
   "source": [
    "Ezután létrehozok 3 listát a 3 scoring method szerint, amelyeket feltöltök a 100 legtöbb availability növekedést eredményező fejlesztéssel"
   ]
  },
  {
   "cell_type": "code",
   "execution_count": 65,
   "metadata": {},
   "outputs": [],
   "source": [
    "scoring_methods = ['NMD', 'PMD', 'NFN']\n",
    "all_first_100_upgrades = {}\n",
    "\n",
    "for method in scoring_methods:\n",
    "    upgrade = []\n",
    "\n",
    "    for x in range(2000):\n",
    "        upgrade.append(UpgradeWithAvailability(\n",
    "            network_name=network_stats_all[method]['upgraded_element_history'][x][0],\n",
    "            element_type=network_stats_all[method]['upgraded_element_history'][x][1],\n",
    "            element=network_stats_all[method]['upgraded_element_history'][x][2],\n",
    "            element_idx=network_stats_all[method]['upgraded_element_history'][x][3],\n",
    "            cost=network_stats_all[method]['upgraded_element_history'][x][5],\n",
    "            tolerance_before=network_stats_all[method]['upgraded_element_history'][x][6],\n",
    "            tolerance_after=network_stats_all[method]['upgraded_element_history'][x][7],\n",
    "            availability_gain=network_stats_all[method]['available_area_diff_sum'][x]\n",
    "        ))\n",
    "\n",
    "    upgrade.sort(key=get_availability, reverse=True)\n",
    "\n",
    "    first1000Upgrades = []\n",
    "\n",
    "    for x in range(1000):\n",
    "        first1000Upgrades.append(upgrade[x])\n",
    "\n",
    "    all_first_100_upgrades[method] = first1000Upgrades"
   ]
  },
  {
   "cell_type": "markdown",
   "metadata": {},
   "source": [
    "Mostmeg kell nézni hogy van-e átfedés a különböző algoritmusok legjebb fejlesztései között\\\n",
    "Azaz mennyire egyezik meg az NMD legjobb 1000 fejlesztése a PMD legjobb 1000 fejlesztésével és stb.\\\n",
    "NMD - PMD\\\n",
    "NMD - NFN\\\n",
    "PMD - NFN\\\n",
    "NMD - PMD - NFN\\\n",
    "Közben egyesítjük a három listát a merged_upgrades_with_value listába, ahol hozzáadunk egy value mezőt és az availability gaint kétfelé bontjuk\\\n",
    "A value azt tartalmazza, hogy hány algoritmusnak a legjobb fejlesztésében van benne\n",
    "\n",
    "Először csak azokat nézzük meg, amelyek mindháromban benne vannak"
   ]
  },
  {
   "cell_type": "code",
   "execution_count": 66,
   "metadata": {},
   "outputs": [
    {
     "name": "stdout",
     "output_type": "stream",
     "text": [
      "1000 upgrades in NMD\n",
      "1000 upgrades in PMD\n",
      "1000 upgrades in NFN\n",
      "Between the following methods: ['NMD','PMD','NFN'] --- 567 of the 100 upgrades match.\n",
      "567 upgrades in merged_upgrades\n",
      "433 upgrades remain in NMD\n",
      "433 upgrades remain in PMD\n",
      "433 upgrades remain in NFN\n"
     ]
    }
   ],
   "source": [
    "UpgradeWithValue = namedtuple('UpgradeWithValue', [\n",
    "    'network_name', 'element_type', 'element', 'element_idx', 'cost', \n",
    "    'tolerance_before', 'tolerance_after', 'average_availability_gain', 'biggest_availability_gain', 'value'\n",
    "])\n",
    "\n",
    "for method in scoring_methods:\n",
    "     print(str(len(all_first_100_upgrades[method])) + \" upgrades in \" + method)\n",
    "\n",
    "merged_upgrades_with_value = []\n",
    "upgrades_all_match_NMD = []\n",
    "upgrades_all_match_PMD = []\n",
    "upgrades_all_match_NFN = []\n",
    "\n",
    "all_match = 0\n",
    "for x in range(len(all_first_100_upgrades['NMD'])):\n",
    "     availability_x = all_first_100_upgrades['NMD'][x][7]\n",
    "     for y in range(len(all_first_100_upgrades['PMD'])):\n",
    "          availability_y = all_first_100_upgrades['PMD'][y][7]\n",
    "          if(\n",
    "               all_first_100_upgrades['NMD'][x][0] == all_first_100_upgrades['PMD'][y][0] and\n",
    "               all_first_100_upgrades['NMD'][x][1] == all_first_100_upgrades['PMD'][y][1] and\n",
    "               all_first_100_upgrades['NMD'][x][2] == all_first_100_upgrades['PMD'][y][2] and\n",
    "               all_first_100_upgrades['NMD'][x][3] == all_first_100_upgrades['PMD'][y][3] and\n",
    "               all_first_100_upgrades['NMD'][x][5] == all_first_100_upgrades['PMD'][y][5]\n",
    "          ):\n",
    "               for z in range(len(all_first_100_upgrades['NFN'])):\n",
    "                    availability_z = all_first_100_upgrades['NFN'][z][7]\n",
    "                    if(\n",
    "                    all_first_100_upgrades['NMD'][x][0] == all_first_100_upgrades['NFN'][z][0] and\n",
    "                    all_first_100_upgrades['NMD'][x][1] == all_first_100_upgrades['NFN'][z][1] and\n",
    "                    all_first_100_upgrades['NMD'][x][2] == all_first_100_upgrades['NFN'][z][2] and\n",
    "                    all_first_100_upgrades['NMD'][x][3] == all_first_100_upgrades['NFN'][z][3] and\n",
    "                    all_first_100_upgrades['NMD'][x][5] == all_first_100_upgrades['NFN'][z][5]\n",
    "                    ):\n",
    "                         # Amennyiben mindhárom megegyezik, akkor hozzáadjuk az új listához, amiben már szerepel a legnagyobb és az átlagos availability növekedés\n",
    "                         average_availability = (availability_x + availability_y + availability_z) / 3\n",
    "                         biggest_availability = max(availability_x, availability_y, availability_z)\n",
    "                         merged_upgrades_with_value.append(UpgradeWithValue(\n",
    "                              network_name=all_first_100_upgrades['NMD'][x][0],\n",
    "                              element_type=all_first_100_upgrades['NMD'][x][1],\n",
    "                              element=all_first_100_upgrades['NMD'][x][2],\n",
    "                              element_idx=all_first_100_upgrades['NMD'][x][3],\n",
    "                              cost=all_first_100_upgrades['NMD'][x][4],\n",
    "                              tolerance_before=all_first_100_upgrades['NMD'][x][5],\n",
    "                              tolerance_after=all_first_100_upgrades['NMD'][x][6],\n",
    "                              average_availability_gain=average_availability,\n",
    "                              biggest_availability_gain=biggest_availability,\n",
    "                              value=3\n",
    "                         ))\n",
    "                         upgrades_all_match_NMD.append(all_first_100_upgrades['NMD'][x])\n",
    "                         upgrades_all_match_PMD.append(all_first_100_upgrades['PMD'][y])\n",
    "                         upgrades_all_match_NFN.append(all_first_100_upgrades['NFN'][z])\n",
    "                         all_match += 1\n",
    "print(\"Between the following methods: ['NMD','PMD','NFN'] --- \" + str(all_match) + \" of the 100 upgrades match.\")\n",
    "print(str(len(merged_upgrades_with_value)) + \" upgrades in merged_upgrades\")\n",
    "\n",
    "# Kivonjuk azokat a fejlesztéseket amelyek mindháromban szerepeltek\n",
    "all_first_100_upgrades['NMD'] = list(set(all_first_100_upgrades['NMD']) - set(upgrades_all_match_NMD))\n",
    "all_first_100_upgrades['PMD'] = list(set(all_first_100_upgrades['PMD']) - set(upgrades_all_match_PMD))\n",
    "all_first_100_upgrades['NFN'] = list(set(all_first_100_upgrades['NFN']) - set(upgrades_all_match_NFN))\n",
    "\n",
    "for method in scoring_methods:\n",
    "     print(str(len(all_first_100_upgrades[method])) + \" upgrades remain in \" + method)"
   ]
  },
  {
   "cell_type": "markdown",
   "metadata": {},
   "source": [
    "Ebben a részben azokat nézzük meg, ahol csak kettőben van benne."
   ]
  },
  {
   "cell_type": "code",
   "execution_count": 67,
   "metadata": {},
   "outputs": [
    {
     "name": "stdout",
     "output_type": "stream",
     "text": [
      "Between the following methods: ['NMD', 'PMD'] --- 366 of the 100 upgrades match. Not counting the cases where they all match.\n",
      "Between the following methods: ['NMD', 'NFN'] --- 20 of the 100 upgrades match. Not counting the cases where they all match.\n",
      "Between the following methods: ['PMD', 'NFN'] --- 22 of the 100 upgrades match. Not counting the cases where they all match.\n",
      "47 upgrades remain in NMD\n",
      "45 upgrades remain in PMD\n",
      "391 upgrades remain in NFN\n",
      "975 upgrades in merged_upgrades\n"
     ]
    }
   ],
   "source": [
    "scoring_method_pairs = [['NMD','PMD'], ['NMD','NFN'], ['PMD','NFN']]\n",
    "\n",
    "two_match = []\n",
    "\n",
    "for pair in scoring_method_pairs:\n",
    "    counter = 0\n",
    "\n",
    "    two_match_in_pair_one = []\n",
    "    two_match_in_pair_two = []\n",
    "\n",
    "    for x in range(len(all_first_100_upgrades[pair[0]])):\n",
    "        availability_x = all_first_100_upgrades[pair[0]][x][7]\n",
    "        for y in range(len(all_first_100_upgrades[pair[1]])):\n",
    "            availability_y = all_first_100_upgrades[pair[1]][y][7]\n",
    "            if(\n",
    "                all_first_100_upgrades[pair[0]][x][0] == all_first_100_upgrades[pair[1]][y][0] and\n",
    "                all_first_100_upgrades[pair[0]][x][1] == all_first_100_upgrades[pair[1]][y][1] and\n",
    "                all_first_100_upgrades[pair[0]][x][2] == all_first_100_upgrades[pair[1]][y][2] and\n",
    "                all_first_100_upgrades[pair[0]][x][3] == all_first_100_upgrades[pair[1]][y][3] and\n",
    "                all_first_100_upgrades[pair[0]][x][5] == all_first_100_upgrades[pair[1]][y][5]\n",
    "                ):\n",
    "                average_availability = (availability_x + availability_y) / 2\n",
    "                biggest_availability = max(availability_x, availability_y)\n",
    "                counter += 1\n",
    "                merged_upgrades_with_value.append(UpgradeWithValue(\n",
    "                    network_name=all_first_100_upgrades[pair[0]][x][0],\n",
    "                    element_type=all_first_100_upgrades[pair[0]][x][1],\n",
    "                    element=all_first_100_upgrades[pair[0]][x][2],\n",
    "                    element_idx=all_first_100_upgrades[pair[0]][x][3],\n",
    "                    cost=all_first_100_upgrades[pair[0]][x][4],\n",
    "                    tolerance_before=all_first_100_upgrades[pair[0]][x][5],\n",
    "                    tolerance_after=all_first_100_upgrades[pair[0]][x][6],\n",
    "                    biggest_availability_gain=biggest_availability,\n",
    "                    average_availability_gain=average_availability,\n",
    "                    value=2,\n",
    "                ))\n",
    "                two_match_in_pair_one.append(all_first_100_upgrades[pair[0]][x])\n",
    "                two_match_in_pair_two.append(all_first_100_upgrades[pair[1]][y])\n",
    "                \n",
    "    all_first_100_upgrades[pair[0]] = list(set(all_first_100_upgrades[pair[0]]) - set(two_match_in_pair_one))\n",
    "    all_first_100_upgrades[pair[1]] = list(set(all_first_100_upgrades[pair[1]]) - set(two_match_in_pair_two))\n",
    "\n",
    "    two_match.append(counter)\n",
    "    print(\"Between the following methods: \" + str(pair) + \" --- \" + str(counter) + \" of the 100 upgrades match. Not counting the cases where they all match.\")\n",
    "\n",
    "for method in scoring_methods:\n",
    "     print(str(len(all_first_100_upgrades[method])) + \" upgrades remain in \" + method)\n",
    "\n",
    "print(str(len(merged_upgrades_with_value)) + \" upgrades in merged_upgrades\")"
   ]
  },
  {
   "cell_type": "markdown",
   "metadata": {},
   "source": [
    "Ezután feltöltjük a összesített fejlesztéseket tartalmazó listát, azokkal az elemekkel,\\\n",
    "amelyek csak az egyik algoritmus listájában szerepeltek."
   ]
  },
  {
   "cell_type": "code",
   "execution_count": 68,
   "metadata": {},
   "outputs": [
    {
     "name": "stdout",
     "output_type": "stream",
     "text": [
      "1458 upgrades in merged_upgrades\n"
     ]
    }
   ],
   "source": [
    "\n",
    "for method in scoring_methods:\n",
    "     for x in range(len(all_first_100_upgrades[method])):\n",
    "          merged_upgrades_with_value.append(UpgradeWithValue(\n",
    "               network_name=all_first_100_upgrades[method][x][0],\n",
    "               element_type=all_first_100_upgrades[method][x][1],\n",
    "               element=all_first_100_upgrades[method][x][2],\n",
    "               element_idx=all_first_100_upgrades[method][x][3],\n",
    "               cost=all_first_100_upgrades[method][x][4],\n",
    "               tolerance_before=all_first_100_upgrades[method][x][5],\n",
    "               tolerance_after=all_first_100_upgrades[method][x][6],\n",
    "               biggest_availability_gain=all_first_100_upgrades[method][x][7],\n",
    "               average_availability_gain=all_first_100_upgrades[method][x][7],\n",
    "               value=1\n",
    "          ))\n",
    "\n",
    "print(str(len(merged_upgrades_with_value)) + \" upgrades in merged_upgrades\")"
   ]
  },
  {
   "cell_type": "markdown",
   "metadata": {},
   "source": [
    "És egy szép kis Venn diagram"
   ]
  },
  {
   "cell_type": "code",
   "execution_count": 69,
   "metadata": {},
   "outputs": [
    {
     "data": {
      "image/png": "[encoded data removed]",
      "text/plain": [
       "<Figure size 640x480 with 1 Axes>"
      ]
     },
     "metadata": {},
     "output_type": "display_data"
    }
   ],
   "source": [
    "venn3_unweighted(subsets = (\n",
    "    1000 - all_match - two_match[0] - two_match[1],\n",
    "    1000 - all_match - two_match[0] - two_match[2],\n",
    "    two_match[0],\n",
    "    1000 - all_match - two_match[1] - two_match[2], \n",
    "    two_match[1],\n",
    "    two_match[2], \n",
    "    all_match\n",
    "    ), set_labels = ('NMD', 'PMD', 'NFN'))\n",
    "plt.title(\"Azon fejlesztések száma, amelyek \\na három algoritmus 100 legjobb fejlesztései közül megegyeznek.\\n\\n (Legjobb alatt legnagyobb availabilty növekedést eredményezőt értünk)\\n\")   \n",
    "plt.show() "
   ]
  },
  {
   "cell_type": "markdown",
   "metadata": {},
   "source": [
    "Value alapján rendezzük "
   ]
  },
  {
   "cell_type": "code",
   "execution_count": 70,
   "metadata": {},
   "outputs": [
    {
     "name": "stdout",
     "output_type": "stream",
     "text": [
      "1458 upgrades in merged\n"
     ]
    }
   ],
   "source": [
    "merged_upgrades_with_value.sort(key=get_value, reverse=True)\n",
    "print(str(len(merged_upgrades_with_value)) + \" upgrades in merged\")"
   ]
  },
  {
   "cell_type": "markdown",
   "metadata": {},
   "source": [
    "Ki kell még egészíteni azokkal a fejlesztésekkel, amik az előzményei a listában szereplő fejlesztéseknek.\\\n",
    "Tudjuk, hogy minden hálózati elem 6 -os tolerancia szinten van a fejlesztések legelején\\\n",
    "és a maximális tolerancia szint 9\\\n",
    "Tehát megvizsgáljuk mindazon fejlesztéseket, amiknek a tolerance_before mezőjének értéke 7 vagy 8\\\n",
    "\\\n",
    "Elsőnek definiálok pár függvényt\\\n",
    "Az is_upgrade_in_merged megnézi, hogy szerepel-e a keresett fejlesztés az összesített listában\\\n",
    "A find_upgrade_in_merged visszadja az indexét a keresett elemnek az összesített listából\\\n",
    "A find_upgrade_in_network_stats megkeresi a kapott fejlesztést az eredeti beolvasott listában, \\\n",
    "ő akkor kerül meghívásra ha nem találjuk egy fejlesztés előzményét az összesített listában"
   ]
  },
  {
   "cell_type": "code",
   "execution_count": 71,
   "metadata": {},
   "outputs": [],
   "source": [
    "def is_upgrade_in_merged(network_name, element_type, element, element_idx, tolerance_before):\n",
    "    for upgrade in merged_upgrades_with_value:\n",
    "        if(\n",
    "            upgrade[0] == network_name and\n",
    "            upgrade[1] == element_type and\n",
    "            upgrade[2] == element and\n",
    "            upgrade[3] == element_idx and\n",
    "            upgrade[5] == tolerance_before\n",
    "        ):\n",
    "            return True\n",
    "    return False\n",
    "\n",
    "def find_upgrade_in_merged(network_name, element_type, element, element_idx, tolerance_before, tolerance_after):\n",
    "    for idx in range(len(merged_upgrades_with_value)):\n",
    "        if(\n",
    "            merged_upgrades_with_value[idx][0] == network_name and\n",
    "            merged_upgrades_with_value[idx][1] == element_type and\n",
    "            merged_upgrades_with_value[idx][2] == element and\n",
    "            merged_upgrades_with_value[idx][3] == element_idx and\n",
    "            merged_upgrades_with_value[idx][5] == tolerance_before and\n",
    "            merged_upgrades_with_value[idx][6] == tolerance_after\n",
    "\n",
    "        ):\n",
    "            return idx\n",
    "        \n",
    "def find_upgrade_in_network_stats(network_name, element_type, element, element_idx, tolerance_before, tolerance_after):\n",
    "\n",
    "    sum_cost = 0\n",
    "    sum_availability = 0\n",
    "    max_availability = 0\n",
    "\n",
    "    contains_counter = 0\n",
    "\n",
    "    for method in scoring_methods:\n",
    "        for idx in range(len(network_stats_all[method]['upgraded_element_history'])):\n",
    "            if(\n",
    "                network_stats_all[method]['upgraded_element_history'][idx][0] == network_name and\n",
    "                network_stats_all[method]['upgraded_element_history'][idx][1] == element_type and\n",
    "                network_stats_all[method]['upgraded_element_history'][idx][2] == element and\n",
    "                network_stats_all[method]['upgraded_element_history'][idx][3] == element_idx and\n",
    "                network_stats_all[method]['upgraded_element_history'][idx][6] == tolerance_before and\n",
    "                network_stats_all[method]['upgraded_element_history'][idx][7] == tolerance_after           \n",
    "                ):\n",
    "                contains_counter += 1\n",
    "                sum_cost += network_stats_all[method]['upgraded_element_history'][idx][4]\n",
    "                sum_availability += network_stats_all[method]['available_area_diff_sum'][idx]\n",
    "                if(network_stats_all[method]['available_area_diff_sum'][idx] > max_availability): max_availability = network_stats_all[method]['available_area_diff_sum'][idx]\n",
    "\n",
    "    avg_cost = sum_cost / contains_counter\n",
    "    avg_availability = sum_availability / contains_counter\n",
    "\n",
    "    new_upgrade = UpgradeWithValue(\n",
    "        network_name=network_name,\n",
    "        element_type=element_type,\n",
    "        element=element,\n",
    "        element_idx=element_idx,\n",
    "        cost=avg_cost,\n",
    "        tolerance_before=tolerance_before,\n",
    "        tolerance_after=tolerance_after,\n",
    "        average_availability_gain=avg_availability,\n",
    "        biggest_availability_gain=max_availability,\n",
    "        value=0\n",
    "    ) \n",
    "    \n",
    "    return new_upgrade"
   ]
  },
  {
   "cell_type": "markdown",
   "metadata": {},
   "source": [
    "Ebben a részben pedig egybeolvasztjuk azokat a fejlesztéseket, amelyek 7 es vagy 8 as kezdeti toleranciával rendelkeznek\\\n",
    "Egyben fogjuk majd kezelni ezeket a fejlesztéseket (pl: 6 -> 7 és 7-> 8 helyett 6 -> 8)\\\n",
    "\n",
    "Amely fejlesztések az összesített listában 7 es vagy 8 as kezdeti toleranciával rendelkeznek,\\ \n",
    "azokat el kell távolítani a listából az előzetes fejlesztéseivel együtt már ha benne van\\\n",
    "\n",
    "Ezután össze kell olvasztani az előzményeivel\\\n",
    "ezek az előzmények lehet hogy nem lesznek benn az összesített listában, erre lesz az find_upgrade_in_network_stats függvény, \\\n",
    "amely az eredeti listákban keresi meg az adott fejlesztést\n",
    "\n",
    "A fejlesztés költsége, az egyes fejlesztések költségének összege lesz\\\n",
    "A value a legnagyobb a fejlesztések value -i közül\\\n",
    "Az átlagos és a legnagyobb availability növekedéseket külön-külön összegezzük"
   ]
  },
  {
   "cell_type": "code",
   "execution_count": 72,
   "metadata": {},
   "outputs": [
    {
     "name": "stdout",
     "output_type": "stream",
     "text": [
      "There were 548 upgrades with the initial tolerance of 7.\n",
      "There were 386 upgrades with the initial tolerance of 8.\n",
      "2099 upgrades were removed.\n",
      "934 upgrades were added\n",
      "982 upgrades are in the merged list.\n"
     ]
    }
   ],
   "source": [
    "upgrades_to_remove = []\n",
    "upgrades_to_add = []\n",
    "\n",
    "tolerance_before_is_7 = 0\n",
    "tolerance_before_is_8 = 0\n",
    "\n",
    "remove_counter = 0\n",
    "add_counter = 0\n",
    "\n",
    "for upgrade in merged_upgrades_with_value:\n",
    "    if(\n",
    "        upgrade[5] == 8\n",
    "    ):\n",
    "        upgrade_tolerance_6 = None\n",
    "        upgrade_tolerance_7 = None\n",
    "        upgrade_tolerance_8 = upgrade\n",
    "\n",
    "        biggest_value = upgrade[9]\n",
    "        cost_sum = upgrade[4]\n",
    "        availability_sum_avg = upgrade[7]\n",
    "        availability_sum_max = upgrade[8]\n",
    "\n",
    "\n",
    "        if(is_upgrade_in_merged(upgrade[0], upgrade[1], upgrade[2], upgrade[3],6)):\n",
    "            upgrade_tolerance_6_idx = find_upgrade_in_merged(upgrade[0], upgrade[1], upgrade[2], upgrade[3], 6, 7)\n",
    "            upgrade_tolerance_6 = merged_upgrades_with_value[upgrade_tolerance_6_idx]\n",
    "            upgrades_to_remove.append(upgrade_tolerance_6)\n",
    "\n",
    "            availability_sum_avg += upgrade_tolerance_6[7]\n",
    "            availability_sum_max += upgrade_tolerance_6[8]\n",
    "            cost_sum += upgrade_tolerance_6[4]\n",
    "\n",
    "            if(upgrade_tolerance_6[9] > biggest_value): biggest_value = upgrade_tolerance_6[9]    \n",
    "            remove_counter += 1        \n",
    "        else:\n",
    "            temp_upgrade = find_upgrade_in_network_stats(upgrade[0], upgrade[1], upgrade[2], upgrade[3], 6, 7)\n",
    "            availability_sum_avg += temp_upgrade[7]\n",
    "            availability_sum_max += temp_upgrade[8]\n",
    "            cost_sum += temp_upgrade[4]\n",
    "        \n",
    "        if(is_upgrade_in_merged(upgrade[0], upgrade[1], upgrade[2], upgrade[3],7)):\n",
    "            upgrade_tolerance_7_idx = find_upgrade_in_merged(upgrade[0], upgrade[1], upgrade[2], upgrade[3], 7, 8)\n",
    "            upgrade_tolerance_7 = merged_upgrades_with_value[upgrade_tolerance_7_idx]\n",
    "            upgrades_to_remove.append(upgrade_tolerance_7)\n",
    "\n",
    "            availability_sum_avg += upgrade_tolerance_7[7]\n",
    "            availability_sum_max += upgrade_tolerance_7[8]\n",
    "            cost_sum += upgrade_tolerance_7[4]\n",
    "\n",
    "            if(upgrade_tolerance_7[9] > biggest_value): biggest_value = upgrade_tolerance_7[9]   \n",
    "            remove_counter += 1\n",
    "        else:\n",
    "            temp_upgrade = find_upgrade_in_network_stats(upgrade[0], upgrade[1], upgrade[2], upgrade[3], 7, 8)\n",
    "            availability_sum_avg += temp_upgrade[7]\n",
    "            availability_sum_max += temp_upgrade[8]\n",
    "            cost_sum += temp_upgrade[4]\n",
    "                         \n",
    "        upgrades_to_remove.append(upgrade_tolerance_8)\n",
    "        remove_counter += 1\n",
    "        \n",
    "        upgrades_to_add.append(UpgradeWithValue(\n",
    "            network_name=upgrade[0],\n",
    "            element_type=upgrade[1],\n",
    "            element=upgrade[2],\n",
    "            element_idx=upgrade[3],\n",
    "            cost=cost_sum,\n",
    "            tolerance_before=6,\n",
    "            tolerance_after=9,\n",
    "            average_availability_gain=availability_sum_avg,\n",
    "            biggest_availability_gain=availability_sum_max,\n",
    "            value=biggest_value\n",
    "        ))\n",
    "\n",
    "        add_counter += 1\n",
    "        \n",
    "        tolerance_before_is_8 += 1\n",
    "\n",
    "for upgrade in merged_upgrades_with_value:\n",
    "    if(\n",
    "        upgrade[5] == 7\n",
    "    ):\n",
    "        upgrade_tolerance_6 = None\n",
    "        upgrade_tolerance_7 = upgrade\n",
    "        tolerance_before_is_7 += 1\n",
    "\n",
    "        biggest_value = upgrade[9]\n",
    "        cost_sum = upgrade[4]\n",
    "        availability_sum_avg = upgrade[7]\n",
    "        availability_sum_max = upgrade[8]\n",
    "                \n",
    "        if(is_upgrade_in_merged(upgrade[0], upgrade[1], upgrade[2], upgrade[3],6)):\n",
    "            upgrade_tolerance_6_idx = find_upgrade_in_merged(upgrade[0], upgrade[1], upgrade[2], upgrade[3], 6, 7)\n",
    "            upgrade_tolerance_6 = merged_upgrades_with_value[upgrade_tolerance_6_idx]\n",
    "            upgrades_to_remove.append(upgrade_tolerance_6)\n",
    "\n",
    "            availability_sum_avg += upgrade_tolerance_6[7]\n",
    "            availability_sum_max += upgrade_tolerance_6[8]\n",
    "            cost_sum += upgrade_tolerance_6[4]\n",
    "\n",
    "            if(upgrade_tolerance_6[9] > biggest_value): biggest_value = upgrade_tolerance_6[9]\n",
    "            remove_counter += 1\n",
    "        else:\n",
    "            temp_upgrade = find_upgrade_in_network_stats(upgrade[0], upgrade[1], upgrade[2], upgrade[3], 6, 7)\n",
    "            availability_sum_avg += temp_upgrade[7]\n",
    "            availability_sum_max += temp_upgrade[8]\n",
    "            cost_sum += temp_upgrade[4]\n",
    "        \n",
    "        upgrades_to_remove.append(upgrade_tolerance_7)\n",
    "        remove_counter += 1\n",
    "\n",
    "        upgrades_to_add.append(UpgradeWithValue(\n",
    "            network_name=upgrade[0],\n",
    "            element_type=upgrade[1],\n",
    "            element=upgrade[2],\n",
    "            element_idx=upgrade[3],\n",
    "            cost=cost_sum,\n",
    "            tolerance_before=6,\n",
    "            tolerance_after=8,\n",
    "            average_availability_gain=availability_sum_avg,\n",
    "            biggest_availability_gain=availability_sum_max,\n",
    "            value=biggest_value\n",
    "        ))\n",
    "        add_counter += 1\n",
    "        \n",
    "\n",
    "print(\"There were \" + str(tolerance_before_is_7) + \" upgrades with the initial tolerance of 7.\")\n",
    "print(\"There were \" + str(tolerance_before_is_8) + \" upgrades with the initial tolerance of 8.\")\n",
    "\n",
    "merged_upgrades_with_value = list(set(merged_upgrades_with_value) - set(upgrades_to_remove))\n",
    "for upgrade in upgrades_to_add:\n",
    "    merged_upgrades_with_value.append(upgrade)\n",
    "\n",
    "print(str(remove_counter) + \" upgrades were removed.\")\n",
    "print(str(add_counter) + \" upgrades were added\")\n",
    "\n",
    "print(str(len(merged_upgrades_with_value)) + \" upgrades are in the merged list.\")"
   ]
  },
  {
   "cell_type": "markdown",
   "metadata": {},
   "source": [
    "Ellenőrzésképpen megnézzük, maradt e olyan fejlesztés a listában, amelynek nem 6 os a kezdeti toleranciája"
   ]
  },
  {
   "cell_type": "code",
   "execution_count": 73,
   "metadata": {},
   "outputs": [
    {
     "name": "stdout",
     "output_type": "stream",
     "text": [
      "The remaining number of upgrades with 7 initial tolerance: 0\n",
      "The remaining number of upgrades with 8 initial tolerance: 0\n"
     ]
    }
   ],
   "source": [
    "tolerance_8_counter = 0\n",
    "tolerance_7_counter = 0\n",
    "\n",
    "for upgrade in merged_upgrades_with_value:\n",
    "    if(\n",
    "        upgrade[5] == 8\n",
    "    ):\n",
    "        print(upgrade)\n",
    "        tolerance_8_counter += 1\n",
    "\n",
    "for upgrade in merged_upgrades_with_value:\n",
    "    if(\n",
    "        upgrade[5] == 7\n",
    "    ):\n",
    "        print(upgrade)\n",
    "        tolerance_7_counter += 1\n",
    "        \n",
    "\n",
    "print(\"The remaining number of upgrades with 7 initial tolerance: \" + str(tolerance_7_counter))\n",
    "print(\"The remaining number of upgrades with 8 initial tolerance: \" + str(tolerance_8_counter))"
   ]
  },
  {
   "cell_type": "code",
   "execution_count": 74,
   "metadata": {},
   "outputs": [],
   "source": [
    "# Rendezni kell, először value, majd availability alapján\n",
    "merged_upgrades_with_value.sort(key=lambda x: (x[9], x[7]), reverse=True)\n",
    "\n",
    "# Másik lista rendezve csak availability alapján\n",
    "merged_upgrades_sorted = merged_upgrades_with_value\n",
    "merged_upgrades_sorted.sort(key=get_availability, reverse=True)"
   ]
  },
  {
   "cell_type": "code",
   "execution_count": 75,
   "metadata": {},
   "outputs": [],
   "source": [
    "with open(f'../data/upgrade/merged_upgrades_with_value.pkl', 'wb') as f:\n",
    "    pickle.dump(merged_upgrades_sorted, f)\n",
    "\n",
    "with open(f'../data/upgrade/merged_upgrades_with_value2.pkl', 'wb') as f:\n",
    "    pickle.dump(merged_upgrades_with_value, f)"
   ]
  },
  {
   "cell_type": "markdown",
   "metadata": {},
   "source": [
    "Fejlesztési lista mentése, amit majd be lehet olvasni fejlesztésnek"
   ]
  },
  {
   "cell_type": "code",
   "execution_count": 76,
   "metadata": {},
   "outputs": [],
   "source": [
    "from src.models.id_network import NetworkElementUpgrade\n",
    "\n",
    "merged_upgrades_sorted_to_save = [NetworkElementUpgrade(\n",
    "        network_name=upgrade.network_name,\n",
    "        element_type=upgrade.element_type,\n",
    "        element=upgrade.element,\n",
    "        element_idx=upgrade.element_idx,\n",
    "        score=upgrade.average_availability_gain,\n",
    "        cost=upgrade.cost,\n",
    "        tolerance_before=upgrade.tolerance_before,\n",
    "        tolerance_after=upgrade.tolerance_after\n",
    "    ) for upgrade in merged_upgrades_sorted]\n",
    "\n",
    "merged_upgrades_with_value_to_save = [NetworkElementUpgrade(\n",
    "        network_name=upgrade.network_name,\n",
    "        element_type=upgrade.element_type,\n",
    "        element=upgrade.element,\n",
    "        element_idx=upgrade.element_idx,\n",
    "        score=upgrade.average_availability_gain,\n",
    "        cost=upgrade.cost,\n",
    "        tolerance_before=upgrade.tolerance_before,\n",
    "        tolerance_after=upgrade.tolerance_after\n",
    "    ) for upgrade in merged_upgrades_with_value]"
   ]
  },
  {
   "cell_type": "code",
   "execution_count": 77,
   "metadata": {},
   "outputs": [],
   "source": [
    "with open(f'../data/upgrade/merged_upgrades_with_value_to_save.pkl', 'wb') as f:\n",
    "    pickle.dump(merged_upgrades_sorted_to_save, f)\n",
    "\n",
    "with open(f'../data/upgrade/merged_upgrades_with_value_to_save2.pkl', 'wb') as f:\n",
    "    pickle.dump(merged_upgrades_with_value_to_save, f)"
   ]
  }
 ],
 "metadata": {
  "kernelspec": {
   "display_name": "id-net",
   "language": "python",
   "name": "python3"
  },
  "language_info": {
   "codemirror_mode": {
    "name": "ipython",
    "version": 3
   },
   "file_extension": ".py",
   "mimetype": "text/x-python",
   "name": "python",
   "nbconvert_exporter": "python",
   "pygments_lexer": "ipython3",
   "version": "3.12.2"
  }
 },
 "nbformat": 4,
 "nbformat_minor": 2
}
